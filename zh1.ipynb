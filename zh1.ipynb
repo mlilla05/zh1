{
    "metadata": {
        "kernelspec": {
            "name": "SQL",
            "display_name": "SQL",
            "language": "sql"
        },
        "language_info": {
            "name": "sql",
            "version": ""
        }
    },
    "nbformat_minor": 2,
    "nbformat": 4,
    "cells": [
        {
            "cell_type": "markdown",
            "source": [
                ""
            ],
            "metadata": {
                "azdata_cell_guid": "6fa19038-f429-4150-a94a-e35bfc51c722"
            }
        },
        {
            "cell_type": "markdown",
            "source": [
                "1\\. feladat\n",
                "\n",
                "Listázzuk az \"emese\" azonosítójú ügyfél foglalásainak azonosítóit és a foglalás kezdetének dátumát!\n",
                "\n",
                "a. Egy új oszlopban jelenítsük meg, hogy mi lenne a foglalás kezdődátuma, ha azt 1 hónappal későbbre tolnánk!\n",
                "\n",
                "b. Az új oszlop neve legyen 'Módosított kezdődátum'"
            ],
            "metadata": {
                "azdata_cell_guid": "93445078-02d9-4785-858c-ea7ba31a0308"
            },
            "attachments": {}
        },
        {
            "cell_type": "code",
            "source": [
                "SELECT FOGLALAS_PK as 'Foglalás azonosító', METTOL as 'Foglalás kezdetének dátuma', DATEADD(MONTH, 1, METTOL) AS 'Módosított kezdődátum'\r\n",
                "FROM Foglalas\r\n",
                "WHERE UGYFEL_FK = 'emese'"
            ],
            "metadata": {
                "azdata_cell_guid": "2aa3e0a4-1edc-47c5-8235-f609093bdd23",
                "language": "sql"
            },
            "outputs": [
                {
                    "output_type": "display_data",
                    "data": {
                        "text/html": "(7 rows affected)"
                    },
                    "metadata": {}
                },
                {
                    "output_type": "display_data",
                    "data": {
                        "text/html": "Total execution time: 00:00:00.006"
                    },
                    "metadata": {}
                },
                {
                    "output_type": "execute_result",
                    "metadata": {},
                    "execution_count": 16,
                    "data": {
                        "application/vnd.dataresource+json": {
                            "schema": {
                                "fields": [
                                    {
                                        "name": "Foglalás azonosító"
                                    },
                                    {
                                        "name": "Foglalás kezdetének dátuma"
                                    },
                                    {
                                        "name": "Módosított kezdődátum"
                                    }
                                ]
                            },
                            "data": [
                                {
                                    "Foglalás azonosító": "706",
                                    "Foglalás kezdetének dátuma": "2016-07-22",
                                    "Módosított kezdődátum": "2016-08-22"
                                },
                                {
                                    "Foglalás azonosító": "765",
                                    "Foglalás kezdetének dátuma": "2016-08-09",
                                    "Módosított kezdődátum": "2016-09-09"
                                },
                                {
                                    "Foglalás azonosító": "1083",
                                    "Foglalás kezdetének dátuma": "2016-09-27",
                                    "Módosított kezdődátum": "2016-10-27"
                                },
                                {
                                    "Foglalás azonosító": "1250",
                                    "Foglalás kezdetének dátuma": "2016-11-05",
                                    "Módosított kezdődátum": "2016-12-05"
                                },
                                {
                                    "Foglalás azonosító": "1313",
                                    "Foglalás kezdetének dátuma": "2016-11-23",
                                    "Módosított kezdődátum": "2016-12-23"
                                },
                                {
                                    "Foglalás azonosító": "1354",
                                    "Foglalás kezdetének dátuma": "2016-12-07",
                                    "Módosított kezdődátum": "2017-01-07"
                                },
                                {
                                    "Foglalás azonosító": "1484",
                                    "Foglalás kezdetének dátuma": "2017-01-30",
                                    "Módosított kezdődátum": "2017-02-28"
                                }
                            ]
                        },
                        "text/html": [
                            "<table>",
                            "<tr><th>Foglalás azonosító</th><th>Foglalás kezdetének dátuma</th><th>Módosított kezdődátum</th></tr>",
                            "<tr><td>706</td><td>2016-07-22</td><td>2016-08-22</td></tr>",
                            "<tr><td>765</td><td>2016-08-09</td><td>2016-09-09</td></tr>",
                            "<tr><td>1083</td><td>2016-09-27</td><td>2016-10-27</td></tr>",
                            "<tr><td>1250</td><td>2016-11-05</td><td>2016-12-05</td></tr>",
                            "<tr><td>1313</td><td>2016-11-23</td><td>2016-12-23</td></tr>",
                            "<tr><td>1354</td><td>2016-12-07</td><td>2017-01-07</td></tr>",
                            "<tr><td>1484</td><td>2017-01-30</td><td>2017-02-28</td></tr>",
                            "</table>"
                        ]
                    }
                }
            ],
            "execution_count": 16
        },
        {
            "cell_type": "markdown",
            "source": [
                "2\\. feladat\n",
                "\n",
                "<span style=\"color: rgb(0, 0, 0); font-family: &quot;Open Sans&quot;, sans-serif; font-size: 14.44px; background-color: rgb(255, 255, 255);\">Egészítse ki a megkezdett lekérdezést, amely megjeleníti, hogy hány klímás szobája van az egyes szálláshelyeknek!&nbsp;</span> \n",
                "\n",
                "<span style=\"color: rgb(0, 0, 0); font-family: &quot;Open Sans&quot;, sans-serif; font-size: 14.44px; background-color: rgb(255, 255, 255);\">a. A listában a szálláshely azonosítója mellett jelenjen meg a szálláshely neve és a klímás szobák száma!</span><span style=\"color: rgb(0, 0, 0); font-family: &quot;Open Sans&quot;, sans-serif; font-size: 14.44px; background-color: rgb(255, 255, 255);\"><br></span>"
            ],
            "metadata": {
                "azdata_cell_guid": "bb9edc81-6f11-49cf-ab32-308e40b82fcd"
            },
            "attachments": {}
        },
        {
            "cell_type": "code",
            "source": [
                "SELECT szh.SZALLAS_ID as 'Szállás azonosító', szh.SZALLAS_NEV as 'Szállás név', COUNT(*) AS 'Klímás szobák'\r\n",
                "FROM Szallashely szh JOIN Szoba sz ON sz.SZOBA_ID = szh.SZALLAS_ID\r\n",
                "                    JOIN Foglalas f ON f.SZOBA_FK = sz.SZOBA_ID\r\n",
                "                    JOIN Vendeg v ON v.USERNEV = f.UGYFEL_FK\r\n",
                "WHERE sz.KLIMAS = 'i'\r\n",
                "GROUP BY szh.SZALLAS_ID, szh.SZALLAS_NEV"
            ],
            "metadata": {
                "azdata_cell_guid": "c5275d30-3182-4716-9951-bf8c9b9474b6",
                "language": "sql"
            },
            "outputs": [
                {
                    "output_type": "display_data",
                    "data": {
                        "text/html": "(18 rows affected)"
                    },
                    "metadata": {}
                },
                {
                    "output_type": "display_data",
                    "data": {
                        "text/html": "Total execution time: 00:00:00.009"
                    },
                    "metadata": {}
                },
                {
                    "output_type": "execute_result",
                    "metadata": {},
                    "execution_count": 17,
                    "data": {
                        "application/vnd.dataresource+json": {
                            "schema": {
                                "fields": [
                                    {
                                        "name": "Szállás azonosító"
                                    },
                                    {
                                        "name": "Szállás név"
                                    },
                                    {
                                        "name": "Klímás szobák"
                                    }
                                ]
                            },
                            "data": [
                                {
                                    "Szállás azonosító": "2",
                                    "Szállás név": "Családi Ház",
                                    "Klímás szobák": "4"
                                },
                                {
                                    "Szállás azonosító": "3",
                                    "Szállás név": "Fortuna Apartman",
                                    "Klímás szobák": "8"
                                },
                                {
                                    "Szállás azonosító": "4",
                                    "Szállás név": "Fortuna panzió",
                                    "Klímás szobák": "6"
                                },
                                {
                                    "Szállás azonosító": "5",
                                    "Szállás név": "Fortuna Panzió",
                                    "Klímás szobák": "4"
                                },
                                {
                                    "Szállás azonosító": "6",
                                    "Szállás név": "Kentaur Hotel",
                                    "Klímás szobák": "6"
                                },
                                {
                                    "Szállás azonosító": "7",
                                    "Szállás név": "Szieszta Apartmanház",
                                    "Klímás szobák": "6"
                                },
                                {
                                    "Szállás azonosító": "9",
                                    "Szállás név": "Jáde panzió",
                                    "Klímás szobák": "6"
                                },
                                {
                                    "Szállás azonosító": "10",
                                    "Szállás név": "Lagúna Hotel",
                                    "Klímás szobák": "4"
                                },
                                {
                                    "Szállás azonosító": "11",
                                    "Szállás név": "Partiszél Vendégház",
                                    "Klímás szobák": "4"
                                },
                                {
                                    "Szállás azonosító": "12",
                                    "Szállás név": "Gold Hotel",
                                    "Klímás szobák": "9"
                                },
                                {
                                    "Szállás azonosító": "13",
                                    "Szállás név": "Riviéra Panzió",
                                    "Klímás szobák": "4"
                                },
                                {
                                    "Szállás azonosító": "14",
                                    "Szállás név": "Nyárfás Vendégház",
                                    "Klímás szobák": "3"
                                },
                                {
                                    "Szállás azonosító": "15",
                                    "Szállás név": "Tímárház Panzió",
                                    "Klímás szobák": "6"
                                },
                                {
                                    "Szállás azonosító": "16",
                                    "Szállás név": "Bagoly Hotel",
                                    "Klímás szobák": "5"
                                },
                                {
                                    "Szállás azonosító": "17",
                                    "Szállás név": "Szarvas Hotel",
                                    "Klímás szobák": "6"
                                },
                                {
                                    "Szállás azonosító": "19",
                                    "Szállás név": "Nyárfás Vendégház",
                                    "Klímás szobák": "6"
                                },
                                {
                                    "Szállás azonosító": "20",
                                    "Szállás név": "Kollégium",
                                    "Klímás szobák": "5"
                                },
                                {
                                    "Szállás azonosító": "21",
                                    "Szállás név": "Müller Vendégház",
                                    "Klímás szobák": "4"
                                }
                            ]
                        },
                        "text/html": [
                            "<table>",
                            "<tr><th>Szállás azonosító</th><th>Szállás név</th><th>Klímás szobák</th></tr>",
                            "<tr><td>2</td><td>Családi Ház</td><td>4</td></tr>",
                            "<tr><td>3</td><td>Fortuna Apartman</td><td>8</td></tr>",
                            "<tr><td>4</td><td>Fortuna panzió</td><td>6</td></tr>",
                            "<tr><td>5</td><td>Fortuna Panzió</td><td>4</td></tr>",
                            "<tr><td>6</td><td>Kentaur Hotel</td><td>6</td></tr>",
                            "<tr><td>7</td><td>Szieszta Apartmanház</td><td>6</td></tr>",
                            "<tr><td>9</td><td>Jáde panzió</td><td>6</td></tr>",
                            "<tr><td>10</td><td>Lagúna Hotel</td><td>4</td></tr>",
                            "<tr><td>11</td><td>Partiszél Vendégház</td><td>4</td></tr>",
                            "<tr><td>12</td><td>Gold Hotel</td><td>9</td></tr>",
                            "<tr><td>13</td><td>Riviéra Panzió</td><td>4</td></tr>",
                            "<tr><td>14</td><td>Nyárfás Vendégház</td><td>3</td></tr>",
                            "<tr><td>15</td><td>Tímárház Panzió</td><td>6</td></tr>",
                            "<tr><td>16</td><td>Bagoly Hotel</td><td>5</td></tr>",
                            "<tr><td>17</td><td>Szarvas Hotel</td><td>6</td></tr>",
                            "<tr><td>19</td><td>Nyárfás Vendégház</td><td>6</td></tr>",
                            "<tr><td>20</td><td>Kollégium</td><td>5</td></tr>",
                            "<tr><td>21</td><td>Müller Vendégház</td><td>4</td></tr>",
                            "</table>"
                        ]
                    }
                }
            ],
            "execution_count": 17
        },
        {
            "cell_type": "markdown",
            "source": [
                "3\\. feladat\n",
                "\n",
                "Listázzuk azon szobák adatait, amelyeket még nem adtak ki (ha vannak olyanok).\n",
                "\n",
                "a. Jelenítsük meg a szobához tartozó szálláshely nevét is!\n",
                "\n",
                "b. Egy új oszlopban jelenítsük meg, hogy a szálláshely típusa panzió\\_e (Igen/Nem)"
            ],
            "metadata": {
                "azdata_cell_guid": "d27968c4-5ff2-474a-8333-d9b9b8e082fb"
            },
            "attachments": {}
        },
        {
            "cell_type": "code",
            "source": [
                "SELECT sz.*, szh.SZALLAS_NEV, case when szh.TIPUS = 'panzió' then 'Igen' else 'Nem' end as 'Panzió?'\r\n",
                "FROM Szallashely szh JOIN Szoba sz ON sz.SZOBA_ID = szh.SZALLAS_ID\r\n",
                "                    LEFT JOIN Foglalas f ON sz.SZOBA_ID = f.SZOBA_FK\r\n",
                "                    JOIN Vendeg v ON v.USERNEV = f.UGYFEL_FK\r\n",
                "WHERE sz.SZOBA_ID IS NULL"
            ],
            "metadata": {
                "azdata_cell_guid": "7c7978e8-9fea-4af9-b71b-74c4f5cfdbc9",
                "language": "sql"
            },
            "outputs": [
                {
                    "output_type": "display_data",
                    "data": {
                        "text/html": "(0 rows affected)"
                    },
                    "metadata": {}
                },
                {
                    "output_type": "display_data",
                    "data": {
                        "text/html": "Total execution time: 00:00:00.005"
                    },
                    "metadata": {}
                },
                {
                    "output_type": "execute_result",
                    "metadata": {},
                    "execution_count": 18,
                    "data": {
                        "application/vnd.dataresource+json": {
                            "schema": {
                                "fields": [
                                    {
                                        "name": "SZOBA_ID"
                                    },
                                    {
                                        "name": "SZOBA_SZAMA"
                                    },
                                    {
                                        "name": "FEROHELY"
                                    },
                                    {
                                        "name": "POTAGY"
                                    },
                                    {
                                        "name": "KLIMAS"
                                    },
                                    {
                                        "name": "SZALLAS_FK"
                                    },
                                    {
                                        "name": "SZALLAS_NEV"
                                    },
                                    {
                                        "name": "Panzió?"
                                    }
                                ]
                            },
                            "data": []
                        },
                        "text/html": [
                            "<table>",
                            "<tr><th>SZOBA_ID</th><th>SZOBA_SZAMA</th><th>FEROHELY</th><th>POTAGY</th><th>KLIMAS</th><th>SZALLAS_FK</th><th>SZALLAS_NEV</th><th>Panzió?</th></tr>",
                            "</table>"
                        ]
                    }
                }
            ],
            "execution_count": 18
        }
    ]
}